{
 "cells": [
  {
   "cell_type": "markdown",
   "metadata": {},
   "source": [
    "### Lire les deux premières ligne du csv des arbres de Grenoble(module csv, voir doc officielle)"
   ]
  },
  {
   "cell_type": "markdown",
   "metadata": {},
   "source": [
    "### Que représentent elles ?"
   ]
  },
  {
   "cell_type": "code",
   "execution_count": 2,
   "metadata": {},
   "outputs": [],
   "source": [
    "import csv"
   ]
  },
  {
   "cell_type": "code",
   "execution_count": null,
   "metadata": {},
   "outputs": [],
   "source": [
    "import re\n",
    "data = []\n",
    "with open(\"ESP_PUBLIC.IDENTITE_ARBRE.csv\") as file:\n",
    "    for lines in file:\n",
    "        line = re.split(r',(?=\\D)', lines)\n",
    "        line_final = []\n",
    "        for items in line:\n",
    "            item = items.replace('\\n', '')\n",
    "            line_final.append(item)         \n",
    "        data.append(line_final)\n",
    "       "
   ]
  },
  {
   "cell_type": "code",
   "execution_count": null,
   "metadata": {},
   "outputs": [],
   "source": [
    "header = data[0]\n",
    "data_set = data[1:]"
   ]
  },
  {
   "cell_type": "code",
   "execution_count": null,
   "metadata": {},
   "outputs": [],
   "source": [
    "header"
   ]
  },
  {
   "cell_type": "code",
   "execution_count": null,
   "metadata": {},
   "outputs": [],
   "source": [
    "data[1]"
   ]
  },
  {
   "cell_type": "code",
   "execution_count": 3,
   "metadata": {},
   "outputs": [],
   "source": [
    "with open(\"ESP_PUBLIC.IDENTITE_ARBRE.csv\") as csv_file:\n",
    "    reader = csv.reader(csv_file)\n",
    "    interestingrows=[row for idx, row in enumerate(reader) if idx in (0,1)]   \n",
    "    header = interestingrows[0]\n",
    "    data_first = interestingrows[1]"
   ]
  },
  {
   "cell_type": "code",
   "execution_count": 4,
   "metadata": {},
   "outputs": [
    {
     "name": "stdout",
     "output_type": "stream",
     "text": [
      "['ELEM_POINT_ID', 'CODE', 'NOM', 'GENRE', 'GENRE_DESC', 'CATEGORIE', 'CATEGORIE_DESC', 'SOUS_CATEGORIE', 'SOUS_CATEGORIE_DESC', 'CODE_PARENT', 'CODE_PARENT_DESC', 'ADR_SECTEUR', 'BIEN_REFERENCE', 'GENRE_BOTA', 'ESPECE', 'VARIETE', 'STADEDEDEVELOPPEMENT', 'EQUIPE', 'REMARQUES', 'ANNEEDEPLANTATION', 'RAISONDEPLANTATION', 'TRAITEMENTCHENILLES', 'COURRIER', 'IDENTIFIANTPLU', 'TYPEIMPLANTATIONPLU', 'INTITULEPROTECTIONPLU', 'ANNEEABATTAGE', 'ESSOUCHEMENT', 'DIAMETREARBRE', 'CAUSEABATTAGE', 'COLLECTIVITE', 'GeoJSON']\n"
     ]
    }
   ],
   "source": [
    "print(header)"
   ]
  },
  {
   "cell_type": "code",
   "execution_count": 5,
   "metadata": {},
   "outputs": [
    {
     "name": "stdout",
     "output_type": "stream",
     "text": [
      "['16750', 'ESP19318', 'ESP19318', 'VEG', 'VEGETATION', 'ESP01', 'Arbre', 'ESP174', \"Arbre d'espaces ouverts\", 'ESP995', 'Prc Echangeurs Bastion St Roch', '5', 'AR19318', 'Acer', '', '', 'Arbre adulte', '', '', '1975', '', '', '', '', '', '', '', '', '', '', 'Ville de Grenoble', '{\"type\":\"Point\",\"coordinates\":[5.73941612552464,45.1911217700938]}']\n"
     ]
    }
   ],
   "source": [
    "print(data_first)"
   ]
  },
  {
   "cell_type": "markdown",
   "metadata": {},
   "source": [
    "### Extraire l’information concernant l’année de plantation pour l’ensemble des lignes (rows) et stocker ces informations dans une variable de type List"
   ]
  },
  {
   "cell_type": "code",
   "execution_count": null,
   "metadata": {},
   "outputs": [],
   "source": []
  },
  {
   "cell_type": "code",
   "execution_count": 6,
   "metadata": {},
   "outputs": [],
   "source": [
    "with open(\"ESP_PUBLIC.IDENTITE_ARBRE.csv\") as csv_file:\n",
    "    reader = csv.reader(csv_file, delimiter=',')\n",
    "    annee_plantation = [row[19] for row in reader][1:]"
   ]
  },
  {
   "cell_type": "code",
   "execution_count": 7,
   "metadata": {},
   "outputs": [
    {
     "data": {
      "text/plain": [
       "['1975',\n",
       " '1975',\n",
       " '2001',\n",
       " '1975',\n",
       " '2006',\n",
       " '1975',\n",
       " '1975',\n",
       " '1975',\n",
       " '1975',\n",
       " '2001']"
      ]
     },
     "execution_count": 7,
     "metadata": {},
     "output_type": "execute_result"
    }
   ],
   "source": [
    "annee_plantation[:10]"
   ]
  },
  {
   "cell_type": "code",
   "execution_count": 8,
   "metadata": {},
   "outputs": [],
   "source": [
    "#Afficher les 50 premières lignes et les 50 dernières lignes de cette liste."
   ]
  },
  {
   "cell_type": "code",
   "execution_count": 9,
   "metadata": {},
   "outputs": [],
   "source": [
    "slice_annee_plantation = annee_plantation[:50] + annee_plantation[-50:]"
   ]
  },
  {
   "cell_type": "code",
   "execution_count": 10,
   "metadata": {},
   "outputs": [
    {
     "data": {
      "text/plain": [
       "100"
      ]
     },
     "execution_count": 10,
     "metadata": {},
     "output_type": "execute_result"
    }
   ],
   "source": [
    "len(slice_annee_plantation)"
   ]
  },
  {
   "cell_type": "markdown",
   "metadata": {},
   "source": [
    "### Pour combien d’arbres manque-t-il l’information concernant la date de plantation ?"
   ]
  },
  {
   "cell_type": "code",
   "execution_count": 11,
   "metadata": {},
   "outputs": [
    {
     "name": "stdout",
     "output_type": "stream",
     "text": [
      "the number of missing <date de plantation> is 763\n"
     ]
    }
   ],
   "source": [
    "count = 0\n",
    "for years in annee_plantation:\n",
    "    if years == '':\n",
    "        count += 1\n",
    "print(f\"the number of missing <date de plantation> is {count}\")"
   ]
  },
  {
   "cell_type": "markdown",
   "metadata": {},
   "source": [
    "### Extraire l’ensemble des lignes (rows) et stocker ces informations dans une variable de type List"
   ]
  },
  {
   "cell_type": "code",
   "execution_count": 12,
   "metadata": {},
   "outputs": [],
   "source": [
    "with open(\"ESP_PUBLIC.IDENTITE_ARBRE.csv\") as csv_file:\n",
    "    reader = csv.reader(csv_file, delimiter=',')\n",
    "    interestingrows=[row for row in reader][1:]"
   ]
  },
  {
   "cell_type": "markdown",
   "metadata": {},
   "source": [
    "### Combien d’arbres sont recensés dans ce jeu de données ?  "
   ]
  },
  {
   "cell_type": "code",
   "execution_count": 13,
   "metadata": {},
   "outputs": [
    {
     "data": {
      "text/plain": [
       "31892"
      ]
     },
     "execution_count": 13,
     "metadata": {},
     "output_type": "execute_result"
    }
   ],
   "source": [
    "len(interestingrows)"
   ]
  },
  {
   "cell_type": "code",
   "execution_count": 14,
   "metadata": {},
   "outputs": [
    {
     "data": {
      "text/plain": [
       "list"
      ]
     },
     "execution_count": 14,
     "metadata": {},
     "output_type": "execute_result"
    }
   ],
   "source": [
    "type(interestingrows)"
   ]
  },
  {
   "cell_type": "markdown",
   "metadata": {},
   "source": [
    "### Combien d’arbres ont été plantés en moyenne chaque année ? "
   ]
  },
  {
   "cell_type": "code",
   "execution_count": 19,
   "metadata": {},
   "outputs": [],
   "source": [
    "# need to transfer '' in 0 => otherwise / is not possible (!= (''/95))\n",
    "annee_plantation_mod = [0 if x == '' else int(x) for x in annee_plantation]"
   ]
  },
  {
   "cell_type": "code",
   "execution_count": 20,
   "metadata": {},
   "outputs": [],
   "source": [
    "year_max = max(annee_plantation_mod)\n",
    "year_min = min([x for x in annee_plantation_mod if x != 0])"
   ]
  },
  {
   "cell_type": "code",
   "execution_count": 21,
   "metadata": {},
   "outputs": [
    {
     "data": {
      "text/plain": [
       "(2019, 1924, 95)"
      ]
     },
     "execution_count": 21,
     "metadata": {},
     "output_type": "execute_result"
    }
   ],
   "source": [
    "year_max, year_min, year_max - year_min"
   ]
  },
  {
   "cell_type": "code",
   "execution_count": 22,
   "metadata": {},
   "outputs": [
    {
     "name": "stdout",
     "output_type": "stream",
     "text": [
      "plantés en moyenne chaque année: 335\n"
     ]
    }
   ],
   "source": [
    "print(f\"plantés en moyenne chaque année: {int(len(annee_plantation_mod) / 95)}\")"
   ]
  },
  {
   "cell_type": "markdown",
   "metadata": {},
   "source": [
    "### Afficher tous les arbres ayant été plantés l’année de votre naissance."
   ]
  },
  {
   "cell_type": "code",
   "execution_count": 23,
   "metadata": {},
   "outputs": [],
   "source": [
    "arbre_1975 = []\n",
    "for row in interestingrows:\n",
    "    for i in range(len(row)):\n",
    "        if row[i] == '1975':\n",
    "            arbre_1975.append(row)"
   ]
  },
  {
   "cell_type": "code",
   "execution_count": 24,
   "metadata": {},
   "outputs": [
    {
     "data": {
      "text/plain": [
       "['16750',\n",
       " 'ESP19318',\n",
       " 'ESP19318',\n",
       " 'VEG',\n",
       " 'VEGETATION',\n",
       " 'ESP01',\n",
       " 'Arbre',\n",
       " 'ESP174',\n",
       " \"Arbre d'espaces ouverts\",\n",
       " 'ESP995',\n",
       " 'Prc Echangeurs Bastion St Roch',\n",
       " '5',\n",
       " 'AR19318',\n",
       " 'Acer',\n",
       " '',\n",
       " '',\n",
       " 'Arbre adulte',\n",
       " '',\n",
       " '',\n",
       " '1975',\n",
       " '',\n",
       " '',\n",
       " '',\n",
       " '',\n",
       " '',\n",
       " '',\n",
       " '',\n",
       " '',\n",
       " '',\n",
       " '',\n",
       " 'Ville de Grenoble',\n",
       " '{\"type\":\"Point\",\"coordinates\":[5.73941612552464,45.1911217700938]}']"
      ]
     },
     "execution_count": 24,
     "metadata": {},
     "output_type": "execute_result"
    }
   ],
   "source": [
    "arbre_1975[0]"
   ]
  },
  {
   "cell_type": "code",
   "execution_count": 27,
   "metadata": {},
   "outputs": [
    {
     "name": "stdout",
     "output_type": "stream",
     "text": [
      "In 1975, the year of my birth: >3784< were planted in Grenoble\n"
     ]
    }
   ],
   "source": [
    "print(f\"In 1975, the year of my birth: >{len(arbre_1975)}< were planted in Grenoble\")"
   ]
  },
  {
   "cell_type": "markdown",
   "metadata": {},
   "source": [
    "### Combien d’arbres ont été plantés depuis votre naissance ?"
   ]
  },
  {
   "cell_type": "code",
   "execution_count": 28,
   "metadata": {},
   "outputs": [
    {
     "name": "stdout",
     "output_type": "stream",
     "text": [
      "le numero d'arbres ont ete plantes depuis 1975: 26396\n"
     ]
    }
   ],
   "source": [
    "arbre_depuis_1975 = [x for x in annee_plantation_mod if x >= 1975]\n",
    "print(f\"le numero d'arbres ont ete plantes depuis 1975: {len(arbre_depuis_1975)}\")"
   ]
  },
  {
   "cell_type": "code",
   "execution_count": 29,
   "metadata": {},
   "outputs": [
    {
     "name": "stdout",
     "output_type": "stream",
     "text": [
      "numero d'arbres moyenne chaque année: 335 multiplie avec age (45): 14740\n"
     ]
    }
   ],
   "source": [
    "print(f\"numero d'arbres moyenne chaque année: {int(len(annee_plantation_mod) / 95)} multiplie avec age (45): {int(len(annee_plantation_mod) / 95) * 44}\")"
   ]
  },
  {
   "cell_type": "markdown",
   "metadata": {},
   "source": [
    "### Le numero des arbres par anne...."
   ]
  },
  {
   "cell_type": "code",
   "execution_count": 32,
   "metadata": {},
   "outputs": [],
   "source": [
    "arbres_year = {}\n",
    "for year in annee_plantation_mod:\n",
    "    if year not in arbres_year:\n",
    "        arbres_year[year] = 1\n",
    "    else:\n",
    "        arbres_year[year] += 1\n",
    "\n",
    "# sorting dict in descending order of values:\n",
    "count_arbres_year = sorted([(values, key) for key, values in arbres_year.items()], reverse=True)         "
   ]
  },
  {
   "cell_type": "code",
   "execution_count": 52,
   "metadata": {},
   "outputs": [
    {
     "name": "stdout",
     "output_type": "stream",
     "text": [
      "the 5 top most years planting trees in Grenoble:\n",
      "number Trees: Year:          \n",
      "   3783       1975\n",
      "   1606       2001\n",
      "   1511       1980\n",
      "   1391       1970\n",
      "   1028       2015\n"
     ]
    }
   ],
   "source": [
    "print(\"the 5 top most years planting trees in Grenoble:\\n{} {:15}\".format(\"number Trees:\", \"Year:\"))\n",
    "for item in range(5):\n",
    "    count, year = count_arbres_year[item]\n",
    "    print(\"{:7} {:10}\".format(count, year))\n",
    "    "
   ]
  },
  {
   "cell_type": "code",
   "execution_count": 53,
   "metadata": {},
   "outputs": [],
   "source": [
    "data_arbre_years = sorted([(str(key), values) for key, values in arbres_year.items()], reverse=False)"
   ]
  },
  {
   "cell_type": "code",
   "execution_count": 54,
   "metadata": {},
   "outputs": [],
   "source": [
    "years = []\n",
    "number_trees = []\n",
    "\n",
    "for i in range(len(data_arbre_years)):\n",
    "    year,num  = data_arbre_years[i]\n",
    "    number_trees.append(num)\n",
    "    years.append(year)\n"
   ]
  },
  {
   "cell_type": "markdown",
   "metadata": {},
   "source": [
    "### Quel Maire a planté le plus d’arbres à Grenoble ?"
   ]
  },
  {
   "cell_type": "code",
   "execution_count": 55,
   "metadata": {},
   "outputs": [],
   "source": [
    "majors = [['Paul Mistral',1919],\n",
    "         ['Leon Martin',1932],\n",
    "         ['Paul Cocat',1935],\n",
    "         ['Frederic Lafleur',1944],\n",
    "         ['Leon Martin',1945],\n",
    "         ['Marius Bally',1947],\n",
    "         ['Raymond Perinetti',1948],\n",
    "         ['Leon Martin',1949],\n",
    "         ['Albert Michallon',1959],\n",
    "         ['Hubert Dubedout',1965],\n",
    "         ['Alain Carignon',1983],\n",
    "         ['Michel Destot',1995],\n",
    "         ['Eric Piolle',2014]]\n",
    "\n",
    "#list of only the majors....\n",
    "m = [x[0] for x in majors]\n",
    "\n",
    "#starting year of data set.....\n",
    "majors[0][1] = 1924\n",
    "\n",
    "#get starting years for each major: \n",
    "years_major = [years for (name, years) in majors]\n",
    "\n",
    "#append year 2020 and remove 1st element => list shift by one element\n",
    "years_major.append(2020)\n",
    "years_major_mod = years_major[1:]"
   ]
  },
  {
   "cell_type": "code",
   "execution_count": 56,
   "metadata": {},
   "outputs": [],
   "source": [
    "#append shifted list to majors....\n",
    "#gives the period of government\n",
    "for i in range(len(majors)):\n",
    "    majors[i].append(years_major_mod[i])"
   ]
  },
  {
   "cell_type": "code",
   "execution_count": 58,
   "metadata": {
    "scrolled": true
   },
   "outputs": [
    {
     "data": {
      "text/plain": [
       "[['Paul Mistral', 1924, 1932], ['Leon Martin', 1932, 1935]]"
      ]
     },
     "execution_count": 58,
     "metadata": {},
     "output_type": "execute_result"
    }
   ],
   "source": [
    "majors[:2]"
   ]
  },
  {
   "cell_type": "code",
   "execution_count": 142,
   "metadata": {},
   "outputs": [
    {
     "name": "stdout",
     "output_type": "stream",
     "text": [
      "Stored 'majors_dict' (dict)\n"
     ]
    }
   ],
   "source": [
    "# creating dict with year:major from 1924 until 2019....\n",
    "majors_dict = {}\n",
    "for item in majors:\n",
    "    [a, b, c] = item\n",
    "    majors_dict.update({b:a})\n",
    "    b += 1\n",
    "    while b < c:\n",
    "        majors_dict.update({b:a})\n",
    "        b += 1\n",
    "%store majors_dict"
   ]
  },
  {
   "cell_type": "code",
   "execution_count": 60,
   "metadata": {},
   "outputs": [],
   "source": [
    "count_arbres_major = {}\n",
    "\n",
    "for key in majors_dict.keys():\n",
    "    if key in arbres_year:\n",
    "        if majors_dict[key] not in count_arbres_major:\n",
    "            count_arbres_major[majors_dict[key]] = arbres_year[key]\n",
    "        else:\n",
    "            count_arbres_major[majors_dict[key]] += arbres_year[key]"
   ]
  },
  {
   "cell_type": "markdown",
   "metadata": {},
   "source": [
    "### Solution:"
   ]
  },
  {
   "cell_type": "code",
   "execution_count": 61,
   "metadata": {},
   "outputs": [
    {
     "data": {
      "text/plain": [
       "{'Paul Mistral': 12,\n",
       " 'Frederic Lafleur': 27,\n",
       " 'Leon Martin': 527,\n",
       " 'Albert Michallon': 732,\n",
       " 'Hubert Dubedout': 12466,\n",
       " 'Alain Carignon': 4612,\n",
       " 'Michel Destot': 8882,\n",
       " 'Eric Piolle': 3871}"
      ]
     },
     "execution_count": 61,
     "metadata": {},
     "output_type": "execute_result"
    }
   ],
   "source": [
    "count_arbres_major"
   ]
  },
  {
   "cell_type": "markdown",
   "metadata": {},
   "source": [
    "#### creating data for figure:"
   ]
  },
  {
   "cell_type": "code",
   "execution_count": 63,
   "metadata": {},
   "outputs": [],
   "source": [
    "data_arbre_major = sorted([(str(key), values) for key, values in majors_dict.items()], reverse=False)"
   ]
  },
  {
   "cell_type": "code",
   "execution_count": 67,
   "metadata": {},
   "outputs": [
    {
     "data": {
      "text/plain": [
       "[('1924', 'Paul Mistral'), ('1925', 'Paul Mistral'), ('1926', 'Paul Mistral')]"
      ]
     },
     "execution_count": 67,
     "metadata": {},
     "output_type": "execute_result"
    }
   ],
   "source": [
    "data_arbre_major[:3]"
   ]
  },
  {
   "cell_type": "code",
   "execution_count": 68,
   "metadata": {},
   "outputs": [],
   "source": [
    "#years are all the years with number of planted trees\n",
    "#select a list of majors to the corresponding year\n",
    "major_year = [majors_dict[int(x)] for x in years[1:]]"
   ]
  },
  {
   "cell_type": "code",
   "execution_count": 69,
   "metadata": {},
   "outputs": [
    {
     "data": {
      "text/plain": [
       "['Paul Mistral', 'Frederic Lafleur', 'Leon Martin']"
      ]
     },
     "execution_count": 69,
     "metadata": {},
     "output_type": "execute_result"
    }
   ],
   "source": [
    "major_year[:3]"
   ]
  },
  {
   "cell_type": "code",
   "execution_count": 70,
   "metadata": {},
   "outputs": [],
   "source": [
    "major_year.insert(0, '')"
   ]
  },
  {
   "cell_type": "code",
   "execution_count": 89,
   "metadata": {},
   "outputs": [],
   "source": [
    "#create a list of majors keeping the order (for legend.....)\n",
    "ma = []\n",
    "for item in major_year:\n",
    "    if item not in ma:\n",
    "        ma.append(item)"
   ]
  },
  {
   "cell_type": "code",
   "execution_count": 90,
   "metadata": {},
   "outputs": [],
   "source": [
    "color_basic = ['black','pink','orange','green','red','brown','blue','purple','cyan']"
   ]
  },
  {
   "cell_type": "code",
   "execution_count": 91,
   "metadata": {},
   "outputs": [],
   "source": [
    "#zip object\n",
    "#transform ti list or dict....\n",
    "color_m_d = zip(ma, color_basic)\n",
    "color_m_l = zip(ma, color_basic)"
   ]
  },
  {
   "cell_type": "code",
   "execution_count": 92,
   "metadata": {},
   "outputs": [],
   "source": [
    "ma_d = dict(color_m_d)"
   ]
  },
  {
   "cell_type": "code",
   "execution_count": 93,
   "metadata": {},
   "outputs": [],
   "source": [
    "ma_l = list(color_m_l)"
   ]
  },
  {
   "cell_type": "code",
   "execution_count": 94,
   "metadata": {},
   "outputs": [
    {
     "data": {
      "text/plain": [
       "[('', 'black'),\n",
       " ('Paul Mistral', 'pink'),\n",
       " ('Frederic Lafleur', 'orange'),\n",
       " ('Leon Martin', 'green'),\n",
       " ('Albert Michallon', 'red'),\n",
       " ('Hubert Dubedout', 'brown'),\n",
       " ('Alain Carignon', 'blue'),\n",
       " ('Michel Destot', 'purple'),\n",
       " ('Eric Piolle', 'cyan')]"
      ]
     },
     "execution_count": 94,
     "metadata": {},
     "output_type": "execute_result"
    }
   ],
   "source": [
    "ma_l"
   ]
  },
  {
   "cell_type": "code",
   "execution_count": 95,
   "metadata": {},
   "outputs": [
    {
     "data": {
      "text/plain": [
       "{'': 'black',\n",
       " 'Paul Mistral': 'pink',\n",
       " 'Frederic Lafleur': 'orange',\n",
       " 'Leon Martin': 'green',\n",
       " 'Albert Michallon': 'red',\n",
       " 'Hubert Dubedout': 'brown',\n",
       " 'Alain Carignon': 'blue',\n",
       " 'Michel Destot': 'purple',\n",
       " 'Eric Piolle': 'cyan'}"
      ]
     },
     "execution_count": 95,
     "metadata": {},
     "output_type": "execute_result"
    }
   ],
   "source": [
    "ma_d"
   ]
  },
  {
   "cell_type": "code",
   "execution_count": 96,
   "metadata": {},
   "outputs": [],
   "source": [
    "#creating the color code for each major\n",
    "color = [ma_d[x] for x in major_year]"
   ]
  },
  {
   "cell_type": "markdown",
   "metadata": {},
   "source": [
    "### Utilisez Matplotlib pour tracer l’histogramme représentant le nombre d’arbres plantés par année.   "
   ]
  },
  {
   "cell_type": "code",
   "execution_count": 97,
   "metadata": {},
   "outputs": [],
   "source": [
    "import matplotlib.pyplot as plt\n",
    "import numpy as np"
   ]
  },
  {
   "cell_type": "code",
   "execution_count": 108,
   "metadata": {},
   "outputs": [
    {
     "data": {
      "image/png": "[encoded data removed]",
      "text/plain": [
       "<Figure size 864x360 with 1 Axes>"
      ]
     },
     "metadata": {
      "needs_background": "light"
     },
     "output_type": "display_data"
    }
   ],
   "source": [
    "labels = years\n",
    "x = np.arange(len(labels))\n",
    "\n",
    "fig, ax = plt.subplots(figsize=(12, 5))\n",
    "ax.bar(range(len(years)), number_trees, label=\"n arbres\")\n",
    "ax.set_ylabel('n arbres')\n",
    "ax.set_xlabel('>YEAR<')\n",
    "ax.set_title('arbres Grenoble')\n",
    "ax.set_xticks(x)\n",
    "ax.set_xticklabels(labels)\n",
    "ax.legend()\n",
    "plt.xticks(rotation=70)\n",
    "plt.tight_layout()\n",
    "plt.show()"
   ]
  },
  {
   "cell_type": "code",
   "execution_count": 107,
   "metadata": {},
   "outputs": [
    {
     "data": {
      "image/png": "[encoded data removed]",
      "text/plain": [
       "<Figure size 864x360 with 1 Axes>"
      ]
     },
     "metadata": {
      "needs_background": "light"
     },
     "output_type": "display_data"
    }
   ],
   "source": [
    "fig, ax = plt.subplots(figsize=(12, 5))\n",
    "plot_real = ax.bar(range(len(years)), number_trees, color=color)\n",
    "plot_legend = ax.bar(range(9), np.zeros(9), color=color_basic)\n",
    "ax.set_ylabel('n arbres')\n",
    "ax.set_xlabel('>YEAR<')\n",
    "ax.set_title('arbres Grenoble')\n",
    "ax.set_xticks(range(len(years)))\n",
    "ax.set_xticklabels(years)\n",
    "ax.legend(plot_legend, [x[0] for x in ma_l])\n",
    "plt.xticks(rotation=70)\n",
    "plt.tight_layout()\n",
    "plt.show()\n"
   ]
  },
  {
   "cell_type": "code",
   "execution_count": 136,
   "metadata": {},
   "outputs": [
    {
     "data": {
      "image/png": "[encoded data removed]",
      "text/plain": [
       "<Figure size 864x432 with 2 Axes>"
      ]
     },
     "metadata": {
      "needs_background": "light"
     },
     "output_type": "display_data"
    }
   ],
   "source": [
    "labels = years\n",
    "x = np.arange(len(labels))\n",
    "\n",
    "fig, ax = plt.subplots(1,2, figsize=(12, 6))\n",
    "\n",
    "plt.subplot(1, 2, 1)\n",
    "plt.bar(range(len(years)), number_trees, label=\"n arbres\")\n",
    "plt.ylabel('n arbres')\n",
    "plt.xlabel('>YEAR<')\n",
    "plt.title('arbres Grenoble')\n",
    "plt.xticks(x[::3], years[::3], rotation=70)\n",
    "plt.legend()\n",
    "\n",
    "plt.subplot(1, 2, 2)\n",
    "plot_real = plt.bar(range(len(years)), number_trees, color=color)\n",
    "plot_legend = plt.bar(range(9), np.zeros(9), color=color_basic)\n",
    "plt.ylabel('n arbres')\n",
    "plt.xlabel('>YEAR<')\n",
    "plt.title('arbres Grenoble')\n",
    "plt.xticks(range(len(years))[::3], years[::3], rotation=70)\n",
    "plt.legend(plot_legend, [x[0] for x in ma_l])\n",
    "\n",
    "plt.tight_layout()\n",
    "plt.show()\n",
    "\n",
    "#plt.savefig('LesArbresGrenoble_TreesPerYearPlanted.png', quality=95, dpi=600)"
   ]
  },
  {
   "cell_type": "code",
   "execution_count": 123,
   "metadata": {},
   "outputs": [
    {
     "data": {
      "text/plain": [
       "7"
      ]
     },
     "execution_count": 123,
     "metadata": {},
     "output_type": "execute_result"
    }
   ],
   "source": [
    "arbres_year[2019]"
   ]
  },
  {
   "cell_type": "markdown",
   "metadata": {},
   "source": [
    "### Récupérez maintenant l’information concernant le genre botanique et la stocker conjointement avec l’année de plantation dans un tuple. Les tuples seront stockés dans une liste. "
   ]
  },
  {
   "cell_type": "code",
   "execution_count": 137,
   "metadata": {},
   "outputs": [],
   "source": [
    "with open(\"ESP_PUBLIC.IDENTITE_ARBRE.csv\") as csv_file:\n",
    "    reader = csv.reader(csv_file, delimiter=',')\n",
    "    genre = [row[13] for row in reader][1:]"
   ]
  },
  {
   "cell_type": "code",
   "execution_count": 138,
   "metadata": {},
   "outputs": [],
   "source": [
    "genre_year = list(zip(genre, annee_plantation))"
   ]
  },
  {
   "cell_type": "code",
   "execution_count": 139,
   "metadata": {},
   "outputs": [
    {
     "data": {
      "text/plain": [
       "[('Acer', '1975'),\n",
       " ('Acer', '1975'),\n",
       " ('Fraxinus', '2001'),\n",
       " ('Carpinus', '1975'),\n",
       " ('Alnus', '2006'),\n",
       " ('Robinia', '1975'),\n",
       " ('Robinia', '1975'),\n",
       " ('Robinia', '1975'),\n",
       " ('Acer', '1975'),\n",
       " ('Fraxinus', '2001')]"
      ]
     },
     "execution_count": 139,
     "metadata": {},
     "output_type": "execute_result"
    }
   ],
   "source": [
    "genre_year[:10]"
   ]
  },
  {
   "cell_type": "code",
   "execution_count": 140,
   "metadata": {},
   "outputs": [
    {
     "data": {
      "text/plain": [
       "438"
      ]
     },
     "execution_count": 140,
     "metadata": {},
     "output_type": "execute_result"
    }
   ],
   "source": [
    "genre.count('')"
   ]
  },
  {
   "cell_type": "code",
   "execution_count": 141,
   "metadata": {},
   "outputs": [
    {
     "data": {
      "text/plain": [
       "[('2019', 'Prunus'),\n",
       " ('2019', 'Prunus'),\n",
       " ('2019', 'Magnolia'),\n",
       " ('2019', 'Koelreuteria'),\n",
       " ('2019', 'Euodia'),\n",
       " ('2019', 'Alnus'),\n",
       " ('2019', 'Acer'),\n",
       " ('2018', 'Zelkova'),\n",
       " ('2018', 'Zelkova'),\n",
       " ('2018', 'Zelkova'),\n",
       " ('2018', 'Zelkova')]"
      ]
     },
     "execution_count": 141,
     "metadata": {},
     "output_type": "execute_result"
    }
   ],
   "source": [
    "sorted([(year, genre) for (genre, year) in genre_year], reverse=True)[:11]"
   ]
  },
  {
   "cell_type": "code",
   "execution_count": null,
   "metadata": {},
   "outputs": [],
   "source": []
  },
  {
   "cell_type": "code",
   "execution_count": null,
   "metadata": {},
   "outputs": [],
   "source": []
  },
  {
   "cell_type": "code",
   "execution_count": null,
   "metadata": {},
   "outputs": [],
   "source": []
  },
  {
   "cell_type": "code",
   "execution_count": null,
   "metadata": {},
   "outputs": [],
   "source": []
  },
  {
   "cell_type": "code",
   "execution_count": null,
   "metadata": {},
   "outputs": [],
   "source": []
  },
  {
   "cell_type": "code",
   "execution_count": null,
   "metadata": {},
   "outputs": [],
   "source": []
  },
  {
   "cell_type": "code",
   "execution_count": null,
   "metadata": {},
   "outputs": [],
   "source": []
  },
  {
   "cell_type": "code",
   "execution_count": null,
   "metadata": {},
   "outputs": [],
   "source": []
  }
 ],
 "metadata": {
  "kernelspec": {
   "display_name": "Python 3",
   "language": "python",
   "name": "python3"
  },
  "language_info": {
   "codemirror_mode": {
    "name": "ipython",
    "version": 3
   },
   "file_extension": ".py",
   "mimetype": "text/x-python",
   "name": "python",
   "nbconvert_exporter": "python",
   "pygments_lexer": "ipython3",
   "version": "3.7.1"
  }
 },
 "nbformat": 4,
 "nbformat_minor": 2
}
