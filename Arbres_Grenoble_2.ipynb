{
 "cells": [
  {
   "cell_type": "code",
   "execution_count": 37,
   "metadata": {},
   "outputs": [],
   "source": [
    "import csv\n",
    "import numpy as np"
   ]
  },
  {
   "cell_type": "code",
   "execution_count": 2,
   "metadata": {},
   "outputs": [],
   "source": [
    "# upload data using csv module\n",
    "# data structure as list of dict => access data via <keys>\n",
    "#-----------------------------------------------------------\n",
    "data = []\n",
    "with open(\"ESP_PUBLIC.IDENTITE_ARBRE.csv\") as csv_file:\n",
    "    reader = csv.DictReader(csv_file)\n",
    "    for row in reader:\n",
    "        data.append(dict(row))"
   ]
  },
  {
   "cell_type": "code",
   "execution_count": 3,
   "metadata": {},
   "outputs": [
    {
     "data": {
      "text/plain": [
       "['ELEM_POINT_ID',\n",
       " 'CODE',\n",
       " 'NOM',\n",
       " 'GENRE',\n",
       " 'GENRE_DESC',\n",
       " 'CATEGORIE',\n",
       " 'CATEGORIE_DESC',\n",
       " 'SOUS_CATEGORIE',\n",
       " 'SOUS_CATEGORIE_DESC',\n",
       " 'CODE_PARENT',\n",
       " 'CODE_PARENT_DESC',\n",
       " 'ADR_SECTEUR',\n",
       " 'BIEN_REFERENCE',\n",
       " 'GENRE_BOTA',\n",
       " 'ESPECE',\n",
       " 'VARIETE',\n",
       " 'STADEDEDEVELOPPEMENT',\n",
       " 'EQUIPE',\n",
       " 'REMARQUES',\n",
       " 'ANNEEDEPLANTATION',\n",
       " 'RAISONDEPLANTATION',\n",
       " 'TRAITEMENTCHENILLES',\n",
       " 'COURRIER',\n",
       " 'IDENTIFIANTPLU',\n",
       " 'TYPEIMPLANTATIONPLU',\n",
       " 'INTITULEPROTECTIONPLU',\n",
       " 'ANNEEABATTAGE',\n",
       " 'ESSOUCHEMENT',\n",
       " 'DIAMETREARBRE',\n",
       " 'CAUSEABATTAGE',\n",
       " 'COLLECTIVITE',\n",
       " 'GeoJSON']"
      ]
     },
     "execution_count": 3,
     "metadata": {},
     "output_type": "execute_result"
    }
   ],
   "source": [
    "# print all keys (column names)\n",
    "#-----------------------------------------\n",
    "[key for (key, values) in data[0].items()]"
   ]
  },
  {
   "cell_type": "code",
   "execution_count": 4,
   "metadata": {},
   "outputs": [],
   "source": [
    "# print all 'genres botaniques'\n",
    "#-------------------------------------\n",
    "genres_botanique = [item['GENRE_BOTA'] for item in data]"
   ]
  },
  {
   "cell_type": "markdown",
   "metadata": {},
   "source": [
    "#### count the numbers of genres => 3 VARIANTS"
   ]
  },
  {
   "cell_type": "code",
   "execution_count": 5,
   "metadata": {},
   "outputs": [],
   "source": [
    "# using dict as data type:\n",
    "#-------------------------------\n",
    "dict_genres = {}\n",
    "for genre in genres_botanique:\n",
    "    if genre not in dict_genres:\n",
    "        dict_genres[genre] = 1\n",
    "    else:\n",
    "        dict_genres[genre] += 1"
   ]
  },
  {
   "cell_type": "code",
   "execution_count": 6,
   "metadata": {},
   "outputs": [
    {
     "name": "stdout",
     "output_type": "stream",
     "text": [
      "Le numero des 'genres botaniques' a Grenoble est: 119\n"
     ]
    }
   ],
   "source": [
    "# count via the numbers of key\n",
    "# one key == ''!!\n",
    "#----------------------------------------\n",
    "number_of_genres = len([key for (key, value) in dict_genres.items()])\n",
    "print(f\"Le numero des 'genres botaniques' a Grenoble est: {number_of_genres - 1}\")"
   ]
  },
  {
   "cell_type": "code",
   "execution_count": 7,
   "metadata": {},
   "outputs": [
    {
     "data": {
      "text/plain": [
       "119"
      ]
     },
     "execution_count": 7,
     "metadata": {},
     "output_type": "execute_result"
    }
   ],
   "source": [
    "# using the list data type\n",
    "# transfer to set (only unique items.)\n",
    "#--------------------------\n",
    "len(set(genres_botanique)) - 1"
   ]
  },
  {
   "cell_type": "code",
   "execution_count": 8,
   "metadata": {},
   "outputs": [
    {
     "name": "stdout",
     "output_type": "stream",
     "text": [
      "Le numero des 'genres botaniques' a Grenoble est: 119\n"
     ]
    }
   ],
   "source": [
    "# iterate over list and append in unique_list\n",
    "#---------------------------------------------\n",
    "genres_botanique_unique = []\n",
    "for item in genres_botanique:\n",
    "    if item not in genres_botanique_unique:\n",
    "        genres_botanique_unique.append(item)\n",
    "print(f\"Le numero des 'genres botaniques' a Grenoble est: {len(genres_botanique_unique) - 1}\")"
   ]
  },
  {
   "cell_type": "markdown",
   "metadata": {},
   "source": [
    "### Result: 119 'genres botaniques'"
   ]
  },
  {
   "cell_type": "code",
   "execution_count": null,
   "metadata": {},
   "outputs": [],
   "source": [
    "import timeit\n",
    "# test code perfromance via function with list as parameter....\n",
    "#---------------------------------------------------------------\n",
    "\n",
    "def dictionary(liste):\n",
    "    dict_genres = {}\n",
    "    for genre in liste:\n",
    "        if genre not in dict_genres:\n",
    "            dict_genres[genre] = 1\n",
    "        else:\n",
    "            dict_genres[genre] += 1\n",
    "    number_of_genres = len([key for (key, value) in dict_genres.items()]) - 1\n",
    "    return number_of_genres\n",
    "\n",
    "            \n",
    "def set_approach(liste):\n",
    "    return len(set(liste)) - 1\n",
    "\n",
    "    \n",
    "def list_iteration(liste):\n",
    "    genres_botanique_unique = []\n",
    "    for item in liste:\n",
    "        if item not in genres_botanique_unique:\n",
    "            genres_botanique_unique.append(item)\n",
    "    return (len(genres_botanique_unique) - 1)\n",
    "\n",
    "methods = [dictionary, set_approach, list_iteration]\n",
    "methods_str = [\"dictionary\", \"set_approach\", \"list_iteration\"]\n",
    "\n",
    "times = []\n",
    "results = []\n",
    "for method in methods:\n",
    "    start = timeit.timeit()\n",
    "    result = method(genres_botanique)\n",
    "    end = timeit.timeit()\n",
    "    times.append(end - start)\n",
    "    results.append(result)\n",
    "\n",
    "# Result:\n",
    "#-------------------------------------------------\n",
    "\n",
    "print(\"Perfromance of method:\")    \n",
    "for i in range(len(times)):    \n",
    "    print(\"{} // result: {} time: {}\".format(methods_str[i], results[i], times[i]))"
   ]
  },
  {
   "cell_type": "code",
   "execution_count": null,
   "metadata": {},
   "outputs": [],
   "source": []
  },
  {
   "cell_type": "code",
   "execution_count": 9,
   "metadata": {},
   "outputs": [],
   "source": [
    "# print 'les espèces différentes'\n",
    "# zipp the list of genres and especes in a tuple\n",
    "# join the string if lenght > 1 with ' '\n",
    "#-------------------------------------\n",
    "espece_arbres = list(zip(genres_botanique, [item['ESPECE'] for item in data]))\n",
    "\n",
    "# using list-comprehension\n",
    "#-------------------------------------\n",
    "espece_arbres_tout = [' '.join(x) if x[1] != '' else x[0] for x in espece_arbres]\n",
    "espace_pure = [' '.join(x) for x in espece_arbres if x[1] != '']"
   ]
  },
  {
   "cell_type": "code",
   "execution_count": 10,
   "metadata": {},
   "outputs": [
    {
     "name": "stdout",
     "output_type": "stream",
     "text": [
      "le numero des expeces differentes: 339\n"
     ]
    }
   ],
   "source": [
    "# number of species known or accessable:\n",
    "#-------------------\n",
    "dict_especes = {}\n",
    "for espece in espace_pure:\n",
    "    if espece not in dict_especes:\n",
    "        dict_especes[espece] = 1\n",
    "    else:\n",
    "        dict_especes[espece] += 1\n",
    "print(f\"le numero des expeces differentes: {len([key for (key, value) in dict_especes.items()])}\")"
   ]
  },
  {
   "cell_type": "code",
   "execution_count": 11,
   "metadata": {},
   "outputs": [
    {
     "data": {
      "text/plain": [
       "339"
      ]
     },
     "execution_count": 11,
     "metadata": {},
     "output_type": "execute_result"
    }
   ],
   "source": [
    "len(set(espace_pure))"
   ]
  },
  {
   "cell_type": "markdown",
   "metadata": {},
   "source": [
    "### Result: 339 'les espèces différentes'"
   ]
  },
  {
   "cell_type": "markdown",
   "metadata": {},
   "source": [
    "### ---------------------------------------------------------------------------------------------------"
   ]
  },
  {
   "cell_type": "code",
   "execution_count": 23,
   "metadata": {},
   "outputs": [],
   "source": [
    "# Listez tous les représentants uniques de leurs genre botanique\n",
    "genre_espece = [(key.split(' '))[0] for (key, value) in dict_especes.items()]"
   ]
  },
  {
   "cell_type": "code",
   "execution_count": 29,
   "metadata": {},
   "outputs": [
    {
     "data": {
      "text/plain": [
       "['Fraxinus', 'Carpinus', 'Alnus']"
      ]
     },
     "execution_count": 29,
     "metadata": {},
     "output_type": "execute_result"
    }
   ],
   "source": [
    "genre_espece[:3]"
   ]
  },
  {
   "cell_type": "code",
   "execution_count": 24,
   "metadata": {},
   "outputs": [],
   "source": [
    "dict_genre_especes = {}\n",
    "for espece in genre_espece:\n",
    "    if espece not in dict_genre_especes:\n",
    "        dict_genre_especes[espece] = 1\n",
    "    else:\n",
    "        dict_genre_especes[espece] += 1"
   ]
  },
  {
   "cell_type": "code",
   "execution_count": 26,
   "metadata": {},
   "outputs": [],
   "source": [
    "unique = [key for (key, value) in dict_genre_especes.items() if dict_genre_especes[key] == 1 ]"
   ]
  },
  {
   "cell_type": "code",
   "execution_count": 28,
   "metadata": {},
   "outputs": [
    {
     "data": {
      "text/plain": [
       "71"
      ]
     },
     "execution_count": 28,
     "metadata": {},
     "output_type": "execute_result"
    }
   ],
   "source": [
    "len(unique)"
   ]
  },
  {
   "cell_type": "code",
   "execution_count": 30,
   "metadata": {},
   "outputs": [],
   "source": [
    "espece_sep = [(key.split(' ')) for (key, value) in dict_especes.items()]"
   ]
  },
  {
   "cell_type": "code",
   "execution_count": 31,
   "metadata": {},
   "outputs": [
    {
     "data": {
      "text/plain": [
       "[['Fraxinus', 'excelsior'], ['Carpinus', 'betulus'], ['Alnus', 'cordata']]"
      ]
     },
     "execution_count": 31,
     "metadata": {},
     "output_type": "execute_result"
    }
   ],
   "source": [
    "espece_sep[:3]"
   ]
  },
  {
   "cell_type": "code",
   "execution_count": 32,
   "metadata": {},
   "outputs": [],
   "source": [
    "unique_espece = []\n",
    "\n",
    "for item in espece_sep:\n",
    "    if item[0] in unique:\n",
    "        unique_espece.append(' '.join(item))"
   ]
  },
  {
   "cell_type": "code",
   "execution_count": 33,
   "metadata": {},
   "outputs": [
    {
     "data": {
      "text/plain": [
       "71"
      ]
     },
     "execution_count": 33,
     "metadata": {},
     "output_type": "execute_result"
    }
   ],
   "source": [
    "len(unique_espece)"
   ]
  },
  {
   "cell_type": "code",
   "execution_count": 38,
   "metadata": {},
   "outputs": [
    {
     "data": {
      "text/plain": [
       "array(['Acacia dealbata', 'Ailanthus altissima', 'Albizia julibrissin',\n",
       "       'Araucaria araucana', 'Broussonetia papyrifera',\n",
       "       'Buxus sempervirens', 'Calocedrus decurrens', 'Carya ovalis',\n",
       "       'Castanea sativa', 'Catalpa bignonoides',\n",
       "       'Cephalotaxus harringtonia', 'Cercidiphyllum japonicum',\n",
       "       'Chimonanthus praecox', 'Chitalpa tashkentensis',\n",
       "       'Clerodendron tricotonum', 'Cotinus coggygria',\n",
       "       'Cryptomeria japonica', 'Cupressocyparis leylandii',\n",
       "       'Davidia involucrata', 'Eleagnus angustifolia',\n",
       "       'Eriobotrya  japonica', 'Eucalyptus gunii', 'Euodia daniellii',\n",
       "       'Fagus sylvatica', 'Ficus carica', 'Fontanesia phillyreoides',\n",
       "       'Ginkgo biloba', 'Gleditsia triacanthos', 'Gymnocladus dioicus',\n",
       "       'Hibiscus syriacus', 'Hovenia dulcis', 'Idesia polycarpa',\n",
       "       'Ilex aquifolium', 'Koelreuteria paniculata',\n",
       "       'Laburnum anagyroides', 'Lagerstroemia indica', 'Larix decidua',\n",
       "       'Laurus nobilis', 'Libocedrus decurrens',\n",
       "       'Liriodendron tulipifera', 'Lonicera fragmantissima',\n",
       "       'Maclura pomifera', 'Mespilus germanica',\n",
       "       'Metasequoia glyptostroboides', 'Nyssa sylvatica', 'Olea europaea',\n",
       "       'Ostrya carpinifolia', 'Parrotia persica',\n",
       "       'Phellodendron amurense', 'Phillyrea latifolia',\n",
       "       'Photinia villosa', 'Pistacia chinensis', 'Pseudotsuga menziesii',\n",
       "       'Ptelea trifoliata', 'Pteroceltis tatarinowii',\n",
       "       'Pterostyrax hispida', 'Punica granatum', 'Rhamnus alaternus',\n",
       "       'Rhus typhina', 'Robinia pseudoacacia', 'Sciadopitys verticillata',\n",
       "       'Sequoia sempervirens', 'Sophora japonica',\n",
       "       'Sorbopyrus auricularis', 'Staphylea bumalda', 'Sterculia foetida',\n",
       "       'Styrax japonica', 'Taxodium distychum', 'Taxus baccata',\n",
       "       'Tetradium daniellii', 'Trachycarpus fortunei'], dtype='<U28')"
      ]
     },
     "execution_count": 38,
     "metadata": {},
     "output_type": "execute_result"
    }
   ],
   "source": [
    "np.array(sorted(unique_espece))"
   ]
  },
  {
   "cell_type": "code",
   "execution_count": 12,
   "metadata": {},
   "outputs": [
    {
     "name": "stdout",
     "output_type": "stream",
     "text": [
      "The 10 most common genres in Grenoble:\n",
      "genre: \t number:\n",
      "Acer       5260\n",
      "Platanus   4615\n",
      "Pinus      2075\n",
      "Tilia      1776\n",
      "Fraxinus   1515\n",
      "Carpinus   1324\n",
      "Betula     1218\n",
      "Prunus     1170\n",
      "Populus    911\n",
      "Alnus      816\n"
     ]
    }
   ],
   "source": [
    "#Quels sont les genres botaniques les plus représentés ?\n",
    "# transform dict in list and sort\n",
    "# show the most common genres\n",
    "#---------------------------------------------------------\n",
    "common_genres = sorted([(value, key) for (key, value) in dict_genres.items()], reverse=True)[:10]\n",
    "\n",
    "print(\"The 10 most common genres in Grenoble:\\ngenre: \\t number:\")\n",
    "for i in range(len(common_genres)):\n",
    "    print(\"{:10} {}\".format(common_genres[i][1], common_genres[i][0]))"
   ]
  },
  {
   "cell_type": "code",
   "execution_count": 39,
   "metadata": {},
   "outputs": [
    {
     "data": {
      "text/plain": [
       "31892"
      ]
     },
     "execution_count": 39,
     "metadata": {},
     "output_type": "execute_result"
    }
   ],
   "source": [
    "# total number of trees\n",
    "#-----------------------\n",
    "trees_total = sum([values for (key, values) in dict_genres.items()])\n",
    "trees_total"
   ]
  },
  {
   "cell_type": "code",
   "execution_count": 40,
   "metadata": {},
   "outputs": [],
   "source": [
    "common_genres_percent = sorted([(round((value / trees_total) * 100, 2), key) for (key, value) in dict_genres.items()], \n",
    "                               reverse=True)[:10]"
   ]
  },
  {
   "cell_type": "code",
   "execution_count": 41,
   "metadata": {},
   "outputs": [
    {
     "name": "stdout",
     "output_type": "stream",
     "text": [
      "The 10 most common genres in Grenoble:\n",
      "genre: \t percent:\n",
      "Acer       16.49\n",
      "Platanus   14.47\n",
      "Pinus      6.51\n",
      "Tilia      5.57\n",
      "Fraxinus   4.75\n",
      "Carpinus   4.15\n",
      "Betula     3.82\n",
      "Prunus     3.67\n",
      "Populus    2.86\n",
      "Alnus      2.56\n"
     ]
    }
   ],
   "source": [
    "print(\"The 10 most common genres in Grenoble:\\ngenre: \\t percent:\")\n",
    "for i in range(len(common_genres_percent)):\n",
    "    print(\"{:10} {}\".format(common_genres_percent[i][1], common_genres_percent[i][0]))"
   ]
  },
  {
   "cell_type": "code",
   "execution_count": 42,
   "metadata": {},
   "outputs": [
    {
     "data": {
      "text/plain": [
       "29710"
      ]
     },
     "execution_count": 42,
     "metadata": {},
     "output_type": "execute_result"
    }
   ],
   "source": [
    "trees_total = sum([values for (key, values) in dict_especes.items()])\n",
    "trees_total"
   ]
  },
  {
   "cell_type": "code",
   "execution_count": 43,
   "metadata": {},
   "outputs": [
    {
     "name": "stdout",
     "output_type": "stream",
     "text": [
      "The 10 most common especes in Grenoble:\n",
      "espece                        number\n",
      "Platanus acerifolia            4008\n",
      "Acer pseudoplatanus            1337\n",
      "Pinus nigra                    1325\n",
      "Carpinus betulus               1303\n",
      "Acer platanoides               1097\n",
      "Tilia tomentosa                968\n",
      "Acer campestre                 909\n",
      "Liquidambar styraciflua        803\n",
      "Fraxinus excelsior             791\n",
      "Betula verrucosa               548\n"
     ]
    }
   ],
   "source": [
    "common_especes = sorted([(value, key) for (key, value) in dict_especes.items()], reverse=True)[:10]\n",
    "\n",
    "print(\"The 10 most common especes in Grenoble:\\n{:30}{}\".format(\"espece\", \"number\"))\n",
    "for i in range(len(common_especes)):\n",
    "    print(\"{:30} {}\".format(common_especes[i][1], common_especes[i][0]))"
   ]
  },
  {
   "cell_type": "code",
   "execution_count": 58,
   "metadata": {},
   "outputs": [],
   "source": [
    "common_especes_percent = sorted([(round((value / 31892) * 100, 2), key) for (key, value) in dict_especes.items()], \n",
    "                               reverse=True)[:10]"
   ]
  },
  {
   "cell_type": "code",
   "execution_count": 59,
   "metadata": {},
   "outputs": [
    {
     "name": "stdout",
     "output_type": "stream",
     "text": [
      "The 10 most common especes in Grenoble:\n",
      "espece                        percent\n",
      "Platanus acerifolia            12.57\n",
      "Acer pseudoplatanus            4.19\n",
      "Pinus nigra                    4.15\n",
      "Carpinus betulus               4.09\n",
      "Acer platanoides               3.44\n",
      "Tilia tomentosa                3.04\n",
      "Acer campestre                 2.85\n",
      "Liquidambar styraciflua        2.52\n",
      "Fraxinus excelsior             2.48\n",
      "Betula verrucosa               1.72\n"
     ]
    }
   ],
   "source": [
    "print(\"The 10 most common especes in Grenoble:\\n{:30}{}\".format(\"espece\", \"percent\"))\n",
    "for i in range(len(common_especes_percent)):\n",
    "    print(\"{:30} {}\".format(common_especes_percent[i][1], common_especes_percent[i][0]))"
   ]
  },
  {
   "cell_type": "code",
   "execution_count": null,
   "metadata": {},
   "outputs": [],
   "source": []
  },
  {
   "cell_type": "code",
   "execution_count": null,
   "metadata": {},
   "outputs": [],
   "source": []
  },
  {
   "cell_type": "code",
   "execution_count": null,
   "metadata": {},
   "outputs": [],
   "source": []
  },
  {
   "cell_type": "code",
   "execution_count": 46,
   "metadata": {},
   "outputs": [],
   "source": [
    "# the 10 top most genres for accumulating years from 1924 - 2019\n",
    "# include trees that are removed => "
   ]
  },
  {
   "cell_type": "code",
   "execution_count": 47,
   "metadata": {},
   "outputs": [],
   "source": [
    "for item in data:\n",
    "    if item['ANNEEABATTAGE'] == '':\n",
    "        item['ANNEEABATTAGE'] = '2020'\n",
    "    "
   ]
  },
  {
   "cell_type": "code",
   "execution_count": 48,
   "metadata": {},
   "outputs": [],
   "source": [
    "year_planting = (sorted([item['ANNEEDEPLANTATION'] for item in data if item['ANNEEDEPLANTATION'] != '']))"
   ]
  },
  {
   "cell_type": "code",
   "execution_count": 49,
   "metadata": {},
   "outputs": [],
   "source": [
    "years_planting_order = sorted(list(set(year_planting)))"
   ]
  },
  {
   "cell_type": "code",
   "execution_count": 50,
   "metadata": {},
   "outputs": [],
   "source": [
    "data_accum_genre = []\n",
    "dict_years_genre = {}\n",
    "\n",
    "for y in years_planting_order:\n",
    "    for item in data:\n",
    "        if item['ANNEEDEPLANTATION'] == y and item['ANNEEABATTAGE'] > y:\n",
    "            data_accum_genre.append(item)\n",
    "    genres = [item['GENRE_BOTA'] for item in data_accum_genre if item['GENRE_BOTA'] != '']\n",
    "    dict_y_genre = {}\n",
    "    for genre in genres:\n",
    "        if genre not in dict_y_genre:\n",
    "            dict_y_genre[genre] = 1\n",
    "        else:\n",
    "            dict_y_genre[genre] += 1\n",
    "    total = sum([values for (key, values) in dict_y_genre.items()])\n",
    "    result = sorted([(round((value / total) * 100, 2)) for (key, value) in dict_y_genre.items()], reverse=True)[:5]\n",
    "    dict_years_genre.update({y:result})    "
   ]
  },
  {
   "cell_type": "code",
   "execution_count": 51,
   "metadata": {},
   "outputs": [],
   "source": [
    "result_genre = [values for (key, values) in dict_years_genre.items()]"
   ]
  },
  {
   "cell_type": "code",
   "execution_count": 53,
   "metadata": {},
   "outputs": [
    {
     "data": {
      "text/plain": [
       "[[25.0, 16.67, 8.33, 8.33, 8.33], [69.23, 7.69, 5.13, 2.56, 2.56]]"
      ]
     },
     "execution_count": 53,
     "metadata": {},
     "output_type": "execute_result"
    }
   ],
   "source": [
    "result_genre[:2]"
   ]
  },
  {
   "cell_type": "code",
   "execution_count": 54,
   "metadata": {},
   "outputs": [],
   "source": [
    "data_accum_espece = []\n",
    "dict_years_espece = {}\n",
    "\n",
    "for y in years_planting_order:\n",
    "    for item in data:\n",
    "        if item['ANNEEDEPLANTATION'] == y and item['ANNEEABATTAGE'] > y:\n",
    "            data_accum_espece.append(item)\n",
    "    genres = [item['GENRE_BOTA'] for item in data_accum_espece if item['GENRE_BOTA'] != '']\n",
    "    espece_arbres = list(zip(genres, [item['ESPECE'] for item in data_accum_espece]))\n",
    "    espece_pure = [' '.join(x) for x in espece_arbres if x[1] != '']\n",
    "    \n",
    "    dict_y_espece = {}\n",
    "    for espece in espece_pure:\n",
    "        if espece not in dict_y_espece:\n",
    "            dict_y_espece[espece] = 0\n",
    "        else:\n",
    "            dict_y_espece[espece] += 1\n",
    "    total = sum([values for (key, values) in dict_y_espece.items()])\n",
    "    result = sorted([(round((value / total) * 100, 2)) for (key, value) in dict_y_espece.items()], reverse=True)[:5]\n",
    "    dict_years_espece.update({y:result})    "
   ]
  },
  {
   "cell_type": "code",
   "execution_count": 55,
   "metadata": {},
   "outputs": [],
   "source": [
    "result_especes = [values for (key, values) in dict_years_espece.items()]"
   ]
  },
  {
   "cell_type": "code",
   "execution_count": null,
   "metadata": {},
   "outputs": [],
   "source": []
  },
  {
   "cell_type": "code",
   "execution_count": 56,
   "metadata": {},
   "outputs": [],
   "source": [
    "import matplotlib.pyplot as plt"
   ]
  },
  {
   "cell_type": "code",
   "execution_count": 57,
   "metadata": {},
   "outputs": [
    {
     "data": {
      "image/png": "[encoded data removed]",
      "text/plain": [
       "<Figure size 864x432 with 2 Axes>"
      ]
     },
     "metadata": {
      "needs_background": "light"
     },
     "output_type": "display_data"
    }
   ],
   "source": [
    "fig, ax = plt.subplots(1,2, figsize=(12, 6))\n",
    "\n",
    "plt.subplot(1, 2, 1)\n",
    "plt.plot(years_planting_order, result_genre)\n",
    "plt.ylabel('%')\n",
    "plt.xlabel('YEAR')\n",
    "plt.title(\"diversite des >GENRES< d'arbres Grenoble\")\n",
    "plt.hlines(20,0, len(years_planting_order), colors='k', linestyles='dotted', label='20% limit')\n",
    "plt.xticks(years_planting_order[::3], rotation=70)\n",
    "plt.legend()\n",
    "\n",
    "plt.subplot(1, 2, 2)\n",
    "plt.plot(years_planting_order, result_especes)\n",
    "plt.ylabel('%')\n",
    "plt.xlabel('YEAR')\n",
    "plt.title(\"diversite des >ESPECES< d'arbres Grenoble\")\n",
    "plt.hlines(10,0, len(years_planting_order), colors='k', linestyles='dotted', label='10% limit')\n",
    "plt.xticks(years_planting_order[::3], rotation=70)\n",
    "plt.legend()\n",
    "\n",
    "plt.tight_layout()\n",
    "\n",
    "plt.show()"
   ]
  },
  {
   "cell_type": "code",
   "execution_count": null,
   "metadata": {},
   "outputs": [],
   "source": []
  },
  {
   "cell_type": "code",
   "execution_count": null,
   "metadata": {},
   "outputs": [],
   "source": []
  },
  {
   "cell_type": "code",
   "execution_count": null,
   "metadata": {},
   "outputs": [],
   "source": []
  },
  {
   "cell_type": "code",
   "execution_count": null,
   "metadata": {},
   "outputs": [],
   "source": []
  },
  {
   "cell_type": "code",
   "execution_count": null,
   "metadata": {},
   "outputs": [],
   "source": []
  },
  {
   "cell_type": "code",
   "execution_count": null,
   "metadata": {},
   "outputs": [],
   "source": []
  },
  {
   "cell_type": "code",
   "execution_count": null,
   "metadata": {},
   "outputs": [],
   "source": []
  }
 ],
 "metadata": {
  "kernelspec": {
   "display_name": "Python 3",
   "language": "python",
   "name": "python3"
  },
  "language_info": {
   "codemirror_mode": {
    "name": "ipython",
    "version": 3
   },
   "file_extension": ".py",
   "mimetype": "text/x-python",
   "name": "python",
   "nbconvert_exporter": "python",
   "pygments_lexer": "ipython3",
   "version": "3.7.1"
  }
 },
 "nbformat": 4,
 "nbformat_minor": 2
}
